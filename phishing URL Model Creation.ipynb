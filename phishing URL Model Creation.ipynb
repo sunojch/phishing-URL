{
 "cells": [
  {
   "cell_type": "code",
   "execution_count": 1,
   "id": "5535ee27",
   "metadata": {},
   "outputs": [],
   "source": [
    "# IMPORTING REQUIRED LIBARIES:\n",
    "import numpy as np\n",
    "import pandas as pd\n",
    "import matplotlib.pyplot as plt\n",
    "import seaborn as sns\n",
    "\n",
    "%matplotlib inline\n",
    "sns.set()\n",
    "\n",
    "import warnings\n",
    "warnings.simplefilter(\"ignore\")"
   ]
  },
  {
   "cell_type": "code",
   "execution_count": 2,
   "id": "0a989325",
   "metadata": {},
   "outputs": [],
   "source": [
    "data=pd.read_csv(\"./Preprocessed dataset/preprocessed_dataset.csv\")"
   ]
  },
  {
   "cell_type": "code",
   "execution_count": 3,
   "id": "698f0bfc",
   "metadata": {},
   "outputs": [
    {
     "data": {
      "text/html": [
       "<div>\n",
       "<style scoped>\n",
       "    .dataframe tbody tr th:only-of-type {\n",
       "        vertical-align: middle;\n",
       "    }\n",
       "\n",
       "    .dataframe tbody tr th {\n",
       "        vertical-align: top;\n",
       "    }\n",
       "\n",
       "    .dataframe thead th {\n",
       "        text-align: right;\n",
       "    }\n",
       "</style>\n",
       "<table border=\"1\" class=\"dataframe\">\n",
       "  <thead>\n",
       "    <tr style=\"text-align: right;\">\n",
       "      <th></th>\n",
       "      <th>URL</th>\n",
       "      <th>Label</th>\n",
       "    </tr>\n",
       "  </thead>\n",
       "  <tbody>\n",
       "    <tr>\n",
       "      <th>0</th>\n",
       "      <td>www.atpa.cl/foros/install/wp-content/cimb/index/</td>\n",
       "      <td>bad</td>\n",
       "    </tr>\n",
       "    <tr>\n",
       "      <th>1</th>\n",
       "      <td>cetis43.mx/Modpro/alibaba/index.php?email=abus...</td>\n",
       "      <td>bad</td>\n",
       "    </tr>\n",
       "    <tr>\n",
       "      <th>2</th>\n",
       "      <td>service.confirm.paypal.cmd.cgi-bin.2466sd4f3e6...</td>\n",
       "      <td>bad</td>\n",
       "    </tr>\n",
       "    <tr>\n",
       "      <th>3</th>\n",
       "      <td>0zz0.com/2012/05/05/18/394995639.gif</td>\n",
       "      <td>bad</td>\n",
       "    </tr>\n",
       "    <tr>\n",
       "      <th>4</th>\n",
       "      <td>centralcoastplasterer.com.au/logs/dropbox/auth...</td>\n",
       "      <td>bad</td>\n",
       "    </tr>\n",
       "  </tbody>\n",
       "</table>\n",
       "</div>"
      ],
      "text/plain": [
       "                                                 URL Label\n",
       "0   www.atpa.cl/foros/install/wp-content/cimb/index/   bad\n",
       "1  cetis43.mx/Modpro/alibaba/index.php?email=abus...   bad\n",
       "2  service.confirm.paypal.cmd.cgi-bin.2466sd4f3e6...   bad\n",
       "3               0zz0.com/2012/05/05/18/394995639.gif   bad\n",
       "4  centralcoastplasterer.com.au/logs/dropbox/auth...   bad"
      ]
     },
     "execution_count": 3,
     "metadata": {},
     "output_type": "execute_result"
    }
   ],
   "source": [
    "data.head(5)"
   ]
  },
  {
   "cell_type": "code",
   "execution_count": 4,
   "id": "88630845",
   "metadata": {},
   "outputs": [],
   "source": [
    "import nltk\n",
    "import re\n",
    "\n",
    "from nltk.tokenize import RegexpTokenizer"
   ]
  },
  {
   "cell_type": "code",
   "execution_count": 5,
   "id": "a4c7329d",
   "metadata": {},
   "outputs": [],
   "source": [
    "tokenizer = RegexpTokenizer(r'[A-Za-z]+')"
   ]
  },
  {
   "cell_type": "code",
   "execution_count": 6,
   "id": "4d01b49e",
   "metadata": {},
   "outputs": [
    {
     "data": {
      "text/plain": [
       "'centralcoastplasterer.com.au/logs/dropbox/auth/view/share/'"
      ]
     },
     "execution_count": 6,
     "metadata": {},
     "output_type": "execute_result"
    }
   ],
   "source": [
    "data.URL[4]"
   ]
  },
  {
   "cell_type": "code",
   "execution_count": 7,
   "id": "f492441f",
   "metadata": {},
   "outputs": [
    {
     "data": {
      "text/plain": [
       "['centralcoastplasterer',\n",
       " 'com',\n",
       " 'au',\n",
       " 'logs',\n",
       " 'dropbox',\n",
       " 'auth',\n",
       " 'view',\n",
       " 'share']"
      ]
     },
     "execution_count": 7,
     "metadata": {},
     "output_type": "execute_result"
    }
   ],
   "source": [
    "tokenizer.tokenize(data.URL[4]) # using the fourth row.."
   ]
  },
  {
   "cell_type": "code",
   "execution_count": 8,
   "id": "2f1089f8",
   "metadata": {},
   "outputs": [],
   "source": [
    "data['text_tokenized'] = data.URL.map(lambda t: tokenizer.tokenize(t))"
   ]
  },
  {
   "cell_type": "code",
   "execution_count": 9,
   "id": "951e863b",
   "metadata": {},
   "outputs": [
    {
     "data": {
      "text/html": [
       "<div>\n",
       "<style scoped>\n",
       "    .dataframe tbody tr th:only-of-type {\n",
       "        vertical-align: middle;\n",
       "    }\n",
       "\n",
       "    .dataframe tbody tr th {\n",
       "        vertical-align: top;\n",
       "    }\n",
       "\n",
       "    .dataframe thead th {\n",
       "        text-align: right;\n",
       "    }\n",
       "</style>\n",
       "<table border=\"1\" class=\"dataframe\">\n",
       "  <thead>\n",
       "    <tr style=\"text-align: right;\">\n",
       "      <th></th>\n",
       "      <th>URL</th>\n",
       "      <th>Label</th>\n",
       "      <th>text_tokenized</th>\n",
       "    </tr>\n",
       "  </thead>\n",
       "  <tbody>\n",
       "    <tr>\n",
       "      <th>0</th>\n",
       "      <td>www.atpa.cl/foros/install/wp-content/cimb/index/</td>\n",
       "      <td>bad</td>\n",
       "      <td>[www, atpa, cl, foros, install, wp, content, c...</td>\n",
       "    </tr>\n",
       "    <tr>\n",
       "      <th>1</th>\n",
       "      <td>cetis43.mx/Modpro/alibaba/index.php?email=abus...</td>\n",
       "      <td>bad</td>\n",
       "      <td>[cetis, mx, Modpro, alibaba, index, php, email...</td>\n",
       "    </tr>\n",
       "    <tr>\n",
       "      <th>2</th>\n",
       "      <td>service.confirm.paypal.cmd.cgi-bin.2466sd4f3e6...</td>\n",
       "      <td>bad</td>\n",
       "      <td>[service, confirm, paypal, cmd, cgi, bin, sd, ...</td>\n",
       "    </tr>\n",
       "    <tr>\n",
       "      <th>3</th>\n",
       "      <td>0zz0.com/2012/05/05/18/394995639.gif</td>\n",
       "      <td>bad</td>\n",
       "      <td>[zz, com, gif]</td>\n",
       "    </tr>\n",
       "    <tr>\n",
       "      <th>4</th>\n",
       "      <td>centralcoastplasterer.com.au/logs/dropbox/auth...</td>\n",
       "      <td>bad</td>\n",
       "      <td>[centralcoastplasterer, com, au, logs, dropbox...</td>\n",
       "    </tr>\n",
       "    <tr>\n",
       "      <th>...</th>\n",
       "      <td>...</td>\n",
       "      <td>...</td>\n",
       "      <td>...</td>\n",
       "    </tr>\n",
       "    <tr>\n",
       "      <th>4995</th>\n",
       "      <td>caselaw.lp.findlaw.com/scripts/getcase.pl?cour...</td>\n",
       "      <td>good</td>\n",
       "      <td>[caselaw, lp, findlaw, com, scripts, getcase, ...</td>\n",
       "    </tr>\n",
       "    <tr>\n",
       "      <th>4996</th>\n",
       "      <td>trimaris.org/op-award&amp;award=AOA</td>\n",
       "      <td>good</td>\n",
       "      <td>[trimaris, org, op, award, award, AOA]</td>\n",
       "    </tr>\n",
       "    <tr>\n",
       "      <th>4997</th>\n",
       "      <td>cbc.ca/news/arts/story/2011/05/03/douglas-mont...</td>\n",
       "      <td>good</td>\n",
       "      <td>[cbc, ca, news, arts, story, douglas, montreal...</td>\n",
       "    </tr>\n",
       "    <tr>\n",
       "      <th>4998</th>\n",
       "      <td>bartonchronicle.com/index.php/obituaries/obitu...</td>\n",
       "      <td>good</td>\n",
       "      <td>[bartonchronicle, com, index, php, obituaries,...</td>\n",
       "    </tr>\n",
       "    <tr>\n",
       "      <th>4999</th>\n",
       "      <td>answers.yahoo.com/question/index?qid=200809152...</td>\n",
       "      <td>good</td>\n",
       "      <td>[answers, yahoo, com, question, index, qid, AA...</td>\n",
       "    </tr>\n",
       "  </tbody>\n",
       "</table>\n",
       "<p>5000 rows × 3 columns</p>\n",
       "</div>"
      ],
      "text/plain": [
       "                                                    URL Label  \\\n",
       "0      www.atpa.cl/foros/install/wp-content/cimb/index/   bad   \n",
       "1     cetis43.mx/Modpro/alibaba/index.php?email=abus...   bad   \n",
       "2     service.confirm.paypal.cmd.cgi-bin.2466sd4f3e6...   bad   \n",
       "3                  0zz0.com/2012/05/05/18/394995639.gif   bad   \n",
       "4     centralcoastplasterer.com.au/logs/dropbox/auth...   bad   \n",
       "...                                                 ...   ...   \n",
       "4995  caselaw.lp.findlaw.com/scripts/getcase.pl?cour...  good   \n",
       "4996                    trimaris.org/op-award&award=AOA  good   \n",
       "4997  cbc.ca/news/arts/story/2011/05/03/douglas-mont...  good   \n",
       "4998  bartonchronicle.com/index.php/obituaries/obitu...  good   \n",
       "4999  answers.yahoo.com/question/index?qid=200809152...  good   \n",
       "\n",
       "                                         text_tokenized  \n",
       "0     [www, atpa, cl, foros, install, wp, content, c...  \n",
       "1     [cetis, mx, Modpro, alibaba, index, php, email...  \n",
       "2     [service, confirm, paypal, cmd, cgi, bin, sd, ...  \n",
       "3                                        [zz, com, gif]  \n",
       "4     [centralcoastplasterer, com, au, logs, dropbox...  \n",
       "...                                                 ...  \n",
       "4995  [caselaw, lp, findlaw, com, scripts, getcase, ...  \n",
       "4996             [trimaris, org, op, award, award, AOA]  \n",
       "4997  [cbc, ca, news, arts, story, douglas, montreal...  \n",
       "4998  [bartonchronicle, com, index, php, obituaries,...  \n",
       "4999  [answers, yahoo, com, question, index, qid, AA...  \n",
       "\n",
       "[5000 rows x 3 columns]"
      ]
     },
     "execution_count": 9,
     "metadata": {},
     "output_type": "execute_result"
    }
   ],
   "source": [
    "data"
   ]
  },
  {
   "cell_type": "code",
   "execution_count": 10,
   "id": "281c94af",
   "metadata": {},
   "outputs": [],
   "source": [
    "# Stemming To find the rootwords:\n",
    "from nltk.stem.snowball import SnowballStemmer"
   ]
  },
  {
   "cell_type": "code",
   "execution_count": 11,
   "id": "450e4aaa",
   "metadata": {},
   "outputs": [],
   "source": [
    "stemmer = SnowballStemmer(\"english\")"
   ]
  },
  {
   "cell_type": "code",
   "execution_count": 12,
   "id": "6ccde13d",
   "metadata": {},
   "outputs": [],
   "source": [
    "data['text_stemmed'] = data['text_tokenized'].map(lambda l: [stemmer.stem(word) for word in l])"
   ]
  },
  {
   "cell_type": "code",
   "execution_count": 13,
   "id": "c9237dca",
   "metadata": {},
   "outputs": [],
   "source": [
    "data['text_sent'] = data['text_stemmed'].map(lambda l: ' '.join(l))"
   ]
  },
  {
   "cell_type": "code",
   "execution_count": 14,
   "id": "9978c269",
   "metadata": {},
   "outputs": [
    {
     "data": {
      "text/html": [
       "<div>\n",
       "<style scoped>\n",
       "    .dataframe tbody tr th:only-of-type {\n",
       "        vertical-align: middle;\n",
       "    }\n",
       "\n",
       "    .dataframe tbody tr th {\n",
       "        vertical-align: top;\n",
       "    }\n",
       "\n",
       "    .dataframe thead th {\n",
       "        text-align: right;\n",
       "    }\n",
       "</style>\n",
       "<table border=\"1\" class=\"dataframe\">\n",
       "  <thead>\n",
       "    <tr style=\"text-align: right;\">\n",
       "      <th></th>\n",
       "      <th>URL</th>\n",
       "      <th>Label</th>\n",
       "      <th>text_tokenized</th>\n",
       "      <th>text_stemmed</th>\n",
       "      <th>text_sent</th>\n",
       "    </tr>\n",
       "  </thead>\n",
       "  <tbody>\n",
       "    <tr>\n",
       "      <th>0</th>\n",
       "      <td>www.atpa.cl/foros/install/wp-content/cimb/index/</td>\n",
       "      <td>bad</td>\n",
       "      <td>[www, atpa, cl, foros, install, wp, content, c...</td>\n",
       "      <td>[www, atpa, cl, foro, instal, wp, content, cim...</td>\n",
       "      <td>www atpa cl foro instal wp content cimb index</td>\n",
       "    </tr>\n",
       "    <tr>\n",
       "      <th>1</th>\n",
       "      <td>cetis43.mx/Modpro/alibaba/index.php?email=abus...</td>\n",
       "      <td>bad</td>\n",
       "      <td>[cetis, mx, Modpro, alibaba, index, php, email...</td>\n",
       "      <td>[ceti, mx, modpro, alibaba, index, php, email,...</td>\n",
       "      <td>ceti mx modpro alibaba index php email abus rs...</td>\n",
       "    </tr>\n",
       "    <tr>\n",
       "      <th>2</th>\n",
       "      <td>service.confirm.paypal.cmd.cgi-bin.2466sd4f3e6...</td>\n",
       "      <td>bad</td>\n",
       "      <td>[service, confirm, paypal, cmd, cgi, bin, sd, ...</td>\n",
       "      <td>[servic, confirm, paypal, cmd, cgi, bin, sd, f...</td>\n",
       "      <td>servic confirm paypal cmd cgi bin sd f e sqd e...</td>\n",
       "    </tr>\n",
       "    <tr>\n",
       "      <th>3</th>\n",
       "      <td>0zz0.com/2012/05/05/18/394995639.gif</td>\n",
       "      <td>bad</td>\n",
       "      <td>[zz, com, gif]</td>\n",
       "      <td>[zz, com, gif]</td>\n",
       "      <td>zz com gif</td>\n",
       "    </tr>\n",
       "    <tr>\n",
       "      <th>4</th>\n",
       "      <td>centralcoastplasterer.com.au/logs/dropbox/auth...</td>\n",
       "      <td>bad</td>\n",
       "      <td>[centralcoastplasterer, com, au, logs, dropbox...</td>\n",
       "      <td>[centralcoastplaster, com, au, log, dropbox, a...</td>\n",
       "      <td>centralcoastplaster com au log dropbox auth vi...</td>\n",
       "    </tr>\n",
       "    <tr>\n",
       "      <th>...</th>\n",
       "      <td>...</td>\n",
       "      <td>...</td>\n",
       "      <td>...</td>\n",
       "      <td>...</td>\n",
       "      <td>...</td>\n",
       "    </tr>\n",
       "    <tr>\n",
       "      <th>4995</th>\n",
       "      <td>caselaw.lp.findlaw.com/scripts/getcase.pl?cour...</td>\n",
       "      <td>good</td>\n",
       "      <td>[caselaw, lp, findlaw, com, scripts, getcase, ...</td>\n",
       "      <td>[caselaw, lp, findlaw, com, script, getcas, pl...</td>\n",
       "      <td>caselaw lp findlaw com script getcas pl court ...</td>\n",
       "    </tr>\n",
       "    <tr>\n",
       "      <th>4996</th>\n",
       "      <td>trimaris.org/op-award&amp;award=AOA</td>\n",
       "      <td>good</td>\n",
       "      <td>[trimaris, org, op, award, award, AOA]</td>\n",
       "      <td>[trimari, org, op, award, award, aoa]</td>\n",
       "      <td>trimari org op award award aoa</td>\n",
       "    </tr>\n",
       "    <tr>\n",
       "      <th>4997</th>\n",
       "      <td>cbc.ca/news/arts/story/2011/05/03/douglas-mont...</td>\n",
       "      <td>good</td>\n",
       "      <td>[cbc, ca, news, arts, story, douglas, montreal...</td>\n",
       "      <td>[cbc, ca, news, art, stori, dougla, montreal, ...</td>\n",
       "      <td>cbc ca news art stori dougla montreal fundrais...</td>\n",
       "    </tr>\n",
       "    <tr>\n",
       "      <th>4998</th>\n",
       "      <td>bartonchronicle.com/index.php/obituaries/obitu...</td>\n",
       "      <td>good</td>\n",
       "      <td>[bartonchronicle, com, index, php, obituaries,...</td>\n",
       "      <td>[bartonchronicl, com, index, php, obituari, ob...</td>\n",
       "      <td>bartonchronicl com index php obituari obituari...</td>\n",
       "    </tr>\n",
       "    <tr>\n",
       "      <th>4999</th>\n",
       "      <td>answers.yahoo.com/question/index?qid=200809152...</td>\n",
       "      <td>good</td>\n",
       "      <td>[answers, yahoo, com, question, index, qid, AA...</td>\n",
       "      <td>[answer, yahoo, com, question, index, qid, aam...</td>\n",
       "      <td>answer yahoo com question index qid aamobem</td>\n",
       "    </tr>\n",
       "  </tbody>\n",
       "</table>\n",
       "<p>5000 rows × 5 columns</p>\n",
       "</div>"
      ],
      "text/plain": [
       "                                                    URL Label  \\\n",
       "0      www.atpa.cl/foros/install/wp-content/cimb/index/   bad   \n",
       "1     cetis43.mx/Modpro/alibaba/index.php?email=abus...   bad   \n",
       "2     service.confirm.paypal.cmd.cgi-bin.2466sd4f3e6...   bad   \n",
       "3                  0zz0.com/2012/05/05/18/394995639.gif   bad   \n",
       "4     centralcoastplasterer.com.au/logs/dropbox/auth...   bad   \n",
       "...                                                 ...   ...   \n",
       "4995  caselaw.lp.findlaw.com/scripts/getcase.pl?cour...  good   \n",
       "4996                    trimaris.org/op-award&award=AOA  good   \n",
       "4997  cbc.ca/news/arts/story/2011/05/03/douglas-mont...  good   \n",
       "4998  bartonchronicle.com/index.php/obituaries/obitu...  good   \n",
       "4999  answers.yahoo.com/question/index?qid=200809152...  good   \n",
       "\n",
       "                                         text_tokenized  \\\n",
       "0     [www, atpa, cl, foros, install, wp, content, c...   \n",
       "1     [cetis, mx, Modpro, alibaba, index, php, email...   \n",
       "2     [service, confirm, paypal, cmd, cgi, bin, sd, ...   \n",
       "3                                        [zz, com, gif]   \n",
       "4     [centralcoastplasterer, com, au, logs, dropbox...   \n",
       "...                                                 ...   \n",
       "4995  [caselaw, lp, findlaw, com, scripts, getcase, ...   \n",
       "4996             [trimaris, org, op, award, award, AOA]   \n",
       "4997  [cbc, ca, news, arts, story, douglas, montreal...   \n",
       "4998  [bartonchronicle, com, index, php, obituaries,...   \n",
       "4999  [answers, yahoo, com, question, index, qid, AA...   \n",
       "\n",
       "                                           text_stemmed  \\\n",
       "0     [www, atpa, cl, foro, instal, wp, content, cim...   \n",
       "1     [ceti, mx, modpro, alibaba, index, php, email,...   \n",
       "2     [servic, confirm, paypal, cmd, cgi, bin, sd, f...   \n",
       "3                                        [zz, com, gif]   \n",
       "4     [centralcoastplaster, com, au, log, dropbox, a...   \n",
       "...                                                 ...   \n",
       "4995  [caselaw, lp, findlaw, com, script, getcas, pl...   \n",
       "4996              [trimari, org, op, award, award, aoa]   \n",
       "4997  [cbc, ca, news, art, stori, dougla, montreal, ...   \n",
       "4998  [bartonchronicl, com, index, php, obituari, ob...   \n",
       "4999  [answer, yahoo, com, question, index, qid, aam...   \n",
       "\n",
       "                                              text_sent  \n",
       "0         www atpa cl foro instal wp content cimb index  \n",
       "1     ceti mx modpro alibaba index php email abus rs...  \n",
       "2     servic confirm paypal cmd cgi bin sd f e sqd e...  \n",
       "3                                            zz com gif  \n",
       "4     centralcoastplaster com au log dropbox auth vi...  \n",
       "...                                                 ...  \n",
       "4995  caselaw lp findlaw com script getcas pl court ...  \n",
       "4996                     trimari org op award award aoa  \n",
       "4997  cbc ca news art stori dougla montreal fundrais...  \n",
       "4998  bartonchronicl com index php obituari obituari...  \n",
       "4999        answer yahoo com question index qid aamobem  \n",
       "\n",
       "[5000 rows x 5 columns]"
      ]
     },
     "execution_count": 14,
     "metadata": {},
     "output_type": "execute_result"
    }
   ],
   "source": [
    "data"
   ]
  },
  {
   "cell_type": "code",
   "execution_count": 15,
   "id": "6c91270c",
   "metadata": {},
   "outputs": [
    {
     "data": {
      "text/plain": [
       "(5000, 5)"
      ]
     },
     "execution_count": 15,
     "metadata": {},
     "output_type": "execute_result"
    }
   ],
   "source": [
    "data.shape"
   ]
  },
  {
   "cell_type": "code",
   "execution_count": 16,
   "id": "3a020cc4",
   "metadata": {},
   "outputs": [],
   "source": [
    "from sklearn.feature_extraction.text import CountVectorizer"
   ]
  },
  {
   "cell_type": "code",
   "execution_count": 17,
   "id": "81c76e9e",
   "metadata": {},
   "outputs": [],
   "source": [
    "cv = CountVectorizer()\n",
    "#cv = CountVectorizer(lowercase=False)"
   ]
  },
  {
   "cell_type": "code",
   "execution_count": 18,
   "id": "a421891a",
   "metadata": {},
   "outputs": [],
   "source": [
    "feature = cv.fit_transform(data.text_sent)"
   ]
  },
  {
   "cell_type": "code",
   "execution_count": 19,
   "id": "e8e5eafb",
   "metadata": {},
   "outputs": [
    {
     "data": {
      "text/plain": [
       "<5000x12871 sparse matrix of type '<class 'numpy.int64'>'\n",
       "\twith 41166 stored elements in Compressed Sparse Row format>"
      ]
     },
     "execution_count": 19,
     "metadata": {},
     "output_type": "execute_result"
    }
   ],
   "source": [
    "feature"
   ]
  },
  {
   "cell_type": "code",
   "execution_count": 20,
   "id": "8c37cbf0",
   "metadata": {},
   "outputs": [],
   "source": [
    "feature = feature[:].toarray()"
   ]
  },
  {
   "cell_type": "code",
   "execution_count": 21,
   "id": "28c8b631",
   "metadata": {},
   "outputs": [
    {
     "data": {
      "text/plain": [
       "array([[0, 0, 0, ..., 0, 0, 0],\n",
       "       [0, 0, 0, ..., 0, 0, 0],\n",
       "       [2, 0, 0, ..., 0, 0, 0],\n",
       "       ...,\n",
       "       [0, 0, 0, ..., 0, 0, 0],\n",
       "       [0, 0, 0, ..., 0, 0, 0],\n",
       "       [0, 0, 0, ..., 0, 0, 0]], dtype=int64)"
      ]
     },
     "execution_count": 21,
     "metadata": {},
     "output_type": "execute_result"
    }
   ],
   "source": [
    "feature"
   ]
  },
  {
   "cell_type": "code",
   "execution_count": 22,
   "id": "bee1bf8e",
   "metadata": {},
   "outputs": [],
   "source": [
    "#from sklearn.feature_extraction.text import TfidfVectorizer"
   ]
  },
  {
   "cell_type": "code",
   "execution_count": 23,
   "id": "b27360e5",
   "metadata": {},
   "outputs": [],
   "source": [
    "data[\"Label\"] = data[\"Label\"].map({\"bad\":1,\"good\":0})"
   ]
  },
  {
   "cell_type": "code",
   "execution_count": 24,
   "id": "b4037e64",
   "metadata": {},
   "outputs": [],
   "source": [
    "X=feature"
   ]
  },
  {
   "cell_type": "code",
   "execution_count": 25,
   "id": "902d8cd3",
   "metadata": {},
   "outputs": [],
   "source": [
    "#vectorizer = TfidfVectorizer()\n",
    "#vectors = vectorizer.fit_transform(data.text_sent)\n",
    "#vectors.shape"
   ]
  },
  {
   "cell_type": "code",
   "execution_count": 26,
   "id": "f51d0261",
   "metadata": {},
   "outputs": [
    {
     "name": "stdout",
     "output_type": "stream",
     "text": [
      "(5000, 12871)\n",
      "(5000, 5)\n"
     ]
    }
   ],
   "source": [
    "print(X.shape)\n",
    "print(data.shape)"
   ]
  },
  {
   "cell_type": "code",
   "execution_count": 27,
   "id": "c4b97970",
   "metadata": {},
   "outputs": [],
   "source": [
    "Y=data[\"Label\"]"
   ]
  },
  {
   "cell_type": "code",
   "execution_count": 28,
   "id": "a25f98fd",
   "metadata": {},
   "outputs": [
    {
     "data": {
      "text/plain": [
       "0       1\n",
       "1       1\n",
       "2       1\n",
       "3       1\n",
       "4       1\n",
       "       ..\n",
       "4995    0\n",
       "4996    0\n",
       "4997    0\n",
       "4998    0\n",
       "4999    0\n",
       "Name: Label, Length: 5000, dtype: int64"
      ]
     },
     "execution_count": 28,
     "metadata": {},
     "output_type": "execute_result"
    }
   ],
   "source": [
    "Y"
   ]
  },
  {
   "cell_type": "code",
   "execution_count": 29,
   "id": "e97546d2",
   "metadata": {},
   "outputs": [],
   "source": [
    "from sklearn.model_selection import train_test_split"
   ]
  },
  {
   "cell_type": "code",
   "execution_count": 30,
   "id": "2713287c",
   "metadata": {},
   "outputs": [],
   "source": [
    "X_train,X_test,Y_train,Y_test = train_test_split(X,Y,test_size=0.20,random_state=42)"
   ]
  },
  {
   "cell_type": "code",
   "execution_count": 31,
   "id": "f9615f50",
   "metadata": {},
   "outputs": [
    {
     "data": {
      "text/plain": [
       "array([[0, 0, 0, ..., 0, 0, 0],\n",
       "       [0, 0, 0, ..., 0, 0, 0],\n",
       "       [0, 0, 0, ..., 0, 0, 0],\n",
       "       ...,\n",
       "       [0, 0, 0, ..., 0, 0, 0],\n",
       "       [0, 0, 0, ..., 0, 0, 0],\n",
       "       [0, 0, 0, ..., 0, 0, 0]], dtype=int64)"
      ]
     },
     "execution_count": 31,
     "metadata": {},
     "output_type": "execute_result"
    }
   ],
   "source": [
    "X_train"
   ]
  },
  {
   "cell_type": "code",
   "execution_count": 32,
   "id": "685a67f2",
   "metadata": {},
   "outputs": [
    {
     "data": {
      "text/plain": [
       "4227    0\n",
       "4676    0\n",
       "800     1\n",
       "3671    0\n",
       "4193    0\n",
       "       ..\n",
       "4426    0\n",
       "466     1\n",
       "3092    0\n",
       "3772    0\n",
       "860     1\n",
       "Name: Label, Length: 4000, dtype: int64"
      ]
     },
     "execution_count": 32,
     "metadata": {},
     "output_type": "execute_result"
    }
   ],
   "source": [
    "Y_train"
   ]
  },
  {
   "cell_type": "code",
   "execution_count": 33,
   "id": "e493ad65",
   "metadata": {},
   "outputs": [
    {
     "name": "stdout",
     "output_type": "stream",
     "text": [
      "(4000, 12871)\n",
      "(1000, 12871)\n",
      "(4000,)\n",
      "(1000,)\n"
     ]
    }
   ],
   "source": [
    "print(X_train.shape)\n",
    "print(X_test.shape)\n",
    "print(Y_train.shape)\n",
    "print(Y_test.shape)"
   ]
  },
  {
   "cell_type": "code",
   "execution_count": 34,
   "id": "16ed527e",
   "metadata": {},
   "outputs": [
    {
     "data": {
      "text/plain": [
       "array([[0, 0, 0, ..., 0, 0, 0],\n",
       "       [0, 0, 0, ..., 0, 0, 0],\n",
       "       [0, 0, 0, ..., 0, 0, 0],\n",
       "       ...,\n",
       "       [0, 0, 0, ..., 0, 0, 0],\n",
       "       [0, 0, 0, ..., 0, 0, 0],\n",
       "       [0, 0, 0, ..., 0, 0, 0]], dtype=int64)"
      ]
     },
     "execution_count": 34,
     "metadata": {},
     "output_type": "execute_result"
    }
   ],
   "source": [
    "X_train"
   ]
  },
  {
   "cell_type": "code",
   "execution_count": 35,
   "id": "7bc7e817",
   "metadata": {},
   "outputs": [],
   "source": [
    "from sklearn.linear_model import LogisticRegression"
   ]
  },
  {
   "cell_type": "code",
   "execution_count": 36,
   "id": "f7e75495",
   "metadata": {},
   "outputs": [],
   "source": [
    "LR=LogisticRegression()"
   ]
  },
  {
   "cell_type": "code",
   "execution_count": 37,
   "id": "412ce75f",
   "metadata": {},
   "outputs": [
    {
     "data": {
      "text/plain": [
       "0.98125"
      ]
     },
     "execution_count": 37,
     "metadata": {},
     "output_type": "execute_result"
    }
   ],
   "source": [
    "LR.fit(X_train,Y_train)\n",
    "LR.score(X_train,Y_train)"
   ]
  },
  {
   "cell_type": "code",
   "execution_count": 38,
   "id": "b04cf01d",
   "metadata": {},
   "outputs": [],
   "source": [
    "from sklearn.naive_bayes import GaussianNB"
   ]
  },
  {
   "cell_type": "code",
   "execution_count": 39,
   "id": "d1061b5f",
   "metadata": {},
   "outputs": [],
   "source": [
    "NB=GaussianNB()"
   ]
  },
  {
   "cell_type": "code",
   "execution_count": 40,
   "id": "438c4c7e",
   "metadata": {},
   "outputs": [
    {
     "data": {
      "text/plain": [
       "0.9975"
      ]
     },
     "execution_count": 40,
     "metadata": {},
     "output_type": "execute_result"
    }
   ],
   "source": [
    "NB.fit(X_train,Y_train)\n",
    "NB.score(X_train,Y_train)"
   ]
  },
  {
   "cell_type": "code",
   "execution_count": 41,
   "id": "fb77dff0",
   "metadata": {},
   "outputs": [],
   "source": [
    "from sklearn.svm import SVC"
   ]
  },
  {
   "cell_type": "code",
   "execution_count": 42,
   "id": "55c0d592",
   "metadata": {},
   "outputs": [],
   "source": [
    "SVM=SVC(kernel='rbf')"
   ]
  },
  {
   "cell_type": "code",
   "execution_count": null,
   "id": "5b3facf3",
   "metadata": {},
   "outputs": [],
   "source": [
    "SVM.fit(X_train,Y_train)\n",
    "SVM.score(X_train,Y_train)"
   ]
  },
  {
   "cell_type": "code",
   "execution_count": null,
   "id": "8837593b",
   "metadata": {},
   "outputs": [],
   "source": [
    "from sklearn.neighbors import KNeighborsClassifier"
   ]
  },
  {
   "cell_type": "code",
   "execution_count": null,
   "id": "8d4652bc",
   "metadata": {},
   "outputs": [],
   "source": [
    "KNN=KNeighborsClassifier(n_neighbors=1)\n",
    "KNN.fit(X_train,Y_train)\n",
    "KNN.score(X_train,Y_train)"
   ]
  },
  {
   "cell_type": "code",
   "execution_count": null,
   "id": "4d222b9a",
   "metadata": {},
   "outputs": [],
   "source": [
    "from sklearn.ensemble import RandomForestClassifier"
   ]
  },
  {
   "cell_type": "code",
   "execution_count": null,
   "id": "0a6fc13e",
   "metadata": {},
   "outputs": [],
   "source": [
    "RF=RandomForestClassifier(n_estimators=250)\n",
    "RF.fit(X_train,Y_train)\n",
    "RF.score(X_train,Y_train)"
   ]
  },
  {
   "cell_type": "code",
   "execution_count": null,
   "id": "28fc3d17",
   "metadata": {},
   "outputs": [],
   "source": [
    "from sklearn.ensemble import AdaBoostClassifier"
   ]
  },
  {
   "cell_type": "code",
   "execution_count": null,
   "id": "6281273a",
   "metadata": {},
   "outputs": [],
   "source": [
    "AdB=AdaBoostClassifier(n_estimators=50)\n",
    "AdB.fit(X_train,Y_train)\n",
    "AdB.score(X_train,Y_train)"
   ]
  },
  {
   "cell_type": "code",
   "execution_count": null,
   "id": "137f539f",
   "metadata": {},
   "outputs": [],
   "source": [
    "from sklearn.ensemble import GradientBoostingClassifier"
   ]
  },
  {
   "cell_type": "code",
   "execution_count": null,
   "id": "41d2d5d3",
   "metadata": {},
   "outputs": [],
   "source": [
    "XgB=GradientBoostingClassifier(n_estimators=100)\n",
    "XgB.fit(X_train,Y_train)\n",
    "XgB.score(X_train,Y_train)"
   ]
  },
  {
   "cell_type": "code",
   "execution_count": null,
   "id": "412dc866",
   "metadata": {},
   "outputs": [],
   "source": [
    "from lightgbm import LGBMClassifier"
   ]
  },
  {
   "cell_type": "code",
   "execution_count": null,
   "id": "c1891c53",
   "metadata": {},
   "outputs": [],
   "source": [
    "Lgbm=LGBMClassifier(num_leaves=100)\n",
    "Lgbm.fit(X_train,Y_train)\n",
    "Lgbm.score(X_train,Y_train)"
   ]
  },
  {
   "cell_type": "code",
   "execution_count": null,
   "id": "ce03bae9",
   "metadata": {},
   "outputs": [],
   "source": [
    "# Test score for all Algorithms:\n",
    "print(\"****Test_score*****\")\n",
    "print(\"LR:\",LR.score(X_test,Y_test))\n",
    "print(\"NB:\",NB.score(X_test,Y_test))\n",
    "print(\"SVM:\",SVM.score(X_test,Y_test))\n",
    "print(\"KNN:\",KNN.score(X_test,Y_test))\n",
    "print(\"RF:\",RF.score(X_test,Y_test))\n",
    "print(\"AdB:\",AdB.score(X_test,Y_test))\n",
    "print(\"XgB:\",XgB.score(X_test,Y_test))\n",
    "print(\"Lgbm:\",Lgbm.score(X_test,Y_test))"
   ]
  },
  {
   "cell_type": "code",
   "execution_count": null,
   "id": "27e2c8df",
   "metadata": {},
   "outputs": [],
   "source": [
    "y_LR_pred=LR.predict(X_test)\n",
    "y_NB_pred=NB.predict(X_test)\n",
    "y_SVM_pred=SVM.predict(X_test)\n",
    "y_KNN_pred=KNN.predict(X_test)\n",
    "y_RF_pred=RF.predict(X_test)\n",
    "y_AdB_pred=AdB.predict(X_test)\n",
    "y_XgB_pred=XgB.predict(X_test)\n",
    "y_Lgbm_pred=Lgbm.predict(X_test)"
   ]
  },
  {
   "cell_type": "code",
   "execution_count": null,
   "id": "ca351787",
   "metadata": {},
   "outputs": [],
   "source": [
    "from sklearn import metrics\n",
    "from sklearn.metrics import precision_score,recall_score,accuracy_score"
   ]
  },
  {
   "cell_type": "code",
   "execution_count": null,
   "id": "b2c1c0ac",
   "metadata": {},
   "outputs": [],
   "source": [
    "print(\"precision_score for LogisticRegression:\",metrics.precision_score(Y_test,y_LR_pred))\n",
    "print(\"Precision_score for Navie_bayes:\",metrics.precision_score(Y_test,y_NB_pred))\n",
    "print(\"Precision_score for Support vector Machine:\",metrics.precision_score(Y_test,y_SVM_pred))\n",
    "print(\"Precision_score for Knearestneighbors:\",metrics.precision_score(Y_test,y_KNN_pred))\n",
    "print(\"Precision_score for RandomForestclassifier:\",metrics.precision_score(Y_test,y_RF_pred))\n",
    "print(\"Precision_score for Adaboost classifier:\",metrics.precision_score(Y_test,y_AdB_pred))\n",
    "print(\"Precision_score for GradientBoostingclassifier:\",metrics.precision_score(Y_test,y_XgB_pred))\n",
    "print(\"Precision_score for LightGBM:\",metrics.precision_score(Y_test,y_Lgbm_pred))"
   ]
  },
  {
   "cell_type": "code",
   "execution_count": null,
   "id": "497026c0",
   "metadata": {},
   "outputs": [],
   "source": [
    "print(\"RECALL_score for LogisticRegression:\",metrics.recall_score(Y_test,y_LR_pred))\n",
    "print(\"RECALL_score for Navie_bayes:\",metrics.recall_score(Y_test,y_NB_pred))\n",
    "print(\"RECALL_score for Support vector Machine:\",metrics.recall_score(Y_test,y_SVM_pred))\n",
    "print(\"RECALL_score for Knearestneighbors:\",metrics.recall_score(Y_test,y_KNN_pred))\n",
    "print(\"RECALL_score for RandomForestclassifier:\",metrics.recall_score(Y_test,y_RF_pred))\n",
    "print(\"RECALL_score for Adaboost classifier:\",metrics.recall_score(Y_test,y_AdB_pred))\n",
    "print(\"RECALL_score for GradientBoostingclassifier:\",metrics.recall_score(Y_test,y_XgB_pred))\n",
    "print(\"RECALL_score for LightGBM:\",metrics.recall_score(Y_test,y_Lgbm_pred))"
   ]
  },
  {
   "cell_type": "code",
   "execution_count": null,
   "id": "1253500a",
   "metadata": {},
   "outputs": [],
   "source": [
    "print(\"ACCURACY_score for LogisticRegression:\",metrics.accuracy_score(Y_test,y_LR_pred))\n",
    "print(\"ACCURACY_score for Navie_bayes:\",metrics.accuracy_score(Y_test,y_NB_pred))\n",
    "print(\"ACCURACY_score for Support vector Machine:\",metrics.accuracy_score(Y_test,y_SVM_pred))\n",
    "print(\"ACCURACY_score for Knearestneighbors:\",metrics.accuracy_score(Y_test,y_KNN_pred))\n",
    "print(\"ACCURACY_score for RandomForestclassifier:\",metrics.accuracy_score(Y_test,y_RF_pred))\n",
    "print(\"ACCUARCY_score for Adaboost classifier:\",metrics.accuracy_score(Y_test,y_AdB_pred))\n",
    "print(\"ACCURACY_score for GradientBoostingclassifier:\",metrics.accuracy_score(Y_test,y_XgB_pred))\n",
    "print(\"ACCUARCY_score for LightGBM:\",metrics.accuracy_score(Y_test,y_Lgbm_pred))"
   ]
  },
  {
   "cell_type": "code",
   "execution_count": null,
   "id": "cb0e17ee",
   "metadata": {},
   "outputs": [],
   "source": [
    "from sklearn.pipeline import make_pipeline"
   ]
  },
  {
   "cell_type": "code",
   "execution_count": null,
   "id": "06118e07",
   "metadata": {},
   "outputs": [],
   "source": [
    "pipeline= make_pipeline(CountVectorizer(tokenizer = RegexpTokenizer(r'[A-Za-z]+').tokenize,stop_words='english'),LR)"
   ]
  },
  {
   "cell_type": "code",
   "execution_count": null,
   "id": "990cd2de",
   "metadata": {},
   "outputs": [],
   "source": [
    "trainX, testX, trainY, testY = train_test_split(data.URL, data.Label)"
   ]
  },
  {
   "cell_type": "code",
   "execution_count": null,
   "id": "b5d20b5b",
   "metadata": {},
   "outputs": [],
   "source": [
    "pipeline.fit(trainX,trainY)"
   ]
  },
  {
   "cell_type": "code",
   "execution_count": null,
   "id": "e90419f1",
   "metadata": {},
   "outputs": [],
   "source": [
    "pipeline.score(testX,testY) "
   ]
  },
  {
   "cell_type": "code",
   "execution_count": null,
   "id": "f489aedf",
   "metadata": {},
   "outputs": [],
   "source": [
    "import pickle\n",
    "model_predict=pickle.dump(pipeline,open('./Preprocessed dataset/phishing.pkl','wb'))"
   ]
  },
  {
   "cell_type": "code",
   "execution_count": null,
   "id": "1df44441",
   "metadata": {},
   "outputs": [],
   "source": [
    "print(model_predict)"
   ]
  },
  {
   "cell_type": "code",
   "execution_count": null,
   "id": "3b8613f4",
   "metadata": {},
   "outputs": [],
   "source": [
    "loaded_model = pickle.load(open('./Preprocessed dataset/phishing.pkl', 'rb'))"
   ]
  },
  {
   "cell_type": "code",
   "execution_count": null,
   "id": "c003b5d0",
   "metadata": {},
   "outputs": [],
   "source": [
    "print(loaded_model)"
   ]
  },
  {
   "cell_type": "code",
   "execution_count": null,
   "id": "35ba7d0f",
   "metadata": {},
   "outputs": [],
   "source": [
    "result = loaded_model.score(testX,testY)\n",
    "print(result)"
   ]
  },
  {
   "cell_type": "code",
   "execution_count": null,
   "id": "618eb8f6",
   "metadata": {},
   "outputs": [],
   "source": [
    "test=[data[\"URL\"][4995]]\n",
    "result3 = loaded_model.predict(test)\n",
    "result3"
   ]
  },
  {
   "cell_type": "code",
   "execution_count": null,
   "id": "ec1c6517",
   "metadata": {},
   "outputs": [],
   "source": [
    "prediction=['www.atpa.cl/foros/install/wp-content/cimb/index/','service.confirm.paypal.cmd.cgi-bin.2466sd4f3e6... ','retailhellunderground.com/','restorevisioncenters.com/html/technology.html',\"https://www.google.com/search?client=firefox-b-d&q=amazon+prime+membership\",\"https://www.google.com/search?client=firefox-b-d&q=amazon+prime\"]\n",
    "result=loaded_model.predict(prediction)\n",
    "result"
   ]
  },
  {
   "cell_type": "code",
   "execution_count": null,
   "id": "951d2fa8",
   "metadata": {},
   "outputs": [],
   "source": []
  }
 ],
 "metadata": {
  "kernelspec": {
   "display_name": "Python 3 (ipykernel)",
   "language": "python",
   "name": "python3"
  },
  "language_info": {
   "codemirror_mode": {
    "name": "ipython",
    "version": 3
   },
   "file_extension": ".py",
   "mimetype": "text/x-python",
   "name": "python",
   "nbconvert_exporter": "python",
   "pygments_lexer": "ipython3",
   "version": "3.9.7"
  }
 },
 "nbformat": 4,
 "nbformat_minor": 5
}
